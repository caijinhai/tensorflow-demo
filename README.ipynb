{
 "cells": [
  {
   "cell_type": "markdown",
   "metadata": {},
   "source": [
    "### 使用笔记"
   ]
  },
  {
   "cell_type": "code",
   "execution_count": 7,
   "metadata": {},
   "outputs": [
    {
     "name": "stdout",
     "output_type": "stream",
     "text": [
      "/Users/fqdl123/workspace/demo/tensorflow-demo\n",
      "5\n",
      "('self', 'path_to_model', 'path_to_bin', 'encoding', 'verbose', 'hunpos_paths')\n"
     ]
    },
    {
     "data": {
      "text/plain": [
       "FullArgSpec(args=['self', 'path_to_model', 'path_to_bin', 'encoding', 'verbose'], varargs=None, varkw=None, defaults=(None, 'ISO-8859-1', False), kwonlyargs=[], kwonlydefaults=None, annotations={})"
      ]
     },
     "execution_count": 7,
     "metadata": {},
     "output_type": "execute_result"
    }
   ],
   "source": [
    "import os\n",
    "# 基础目录\n",
    "basedir = os.path.dirname(os.path.abspath(\"__file__\"))\n",
    "print(basedir)\n",
    "\n",
    "from nltk.tag import HunposTagger\n",
    "\n",
    "# 查看对象属性和方法\n",
    "dir(HunposTagger)\n",
    "\n",
    "# 获取方法参数个数\n",
    "print(HunposTagger.__init__.__code__.co_argcount)\n",
    "\n",
    "\n",
    "# 获取方法变量名称\n",
    "print(HunposTagger.__init__.__code__.co_varnames)\n",
    "\n",
    "# 获取方法定义\n",
    "import inspect\n",
    "inspect.getfullargspec(HunposTagger.__init__)"
   ]
  },
  {
   "cell_type": "code",
   "execution_count": null,
   "metadata": {},
   "outputs": [],
   "source": []
  }
 ],
 "metadata": {
  "kernelspec": {
   "display_name": "venv",
   "language": "python",
   "name": "venv"
  },
  "language_info": {
   "codemirror_mode": {
    "name": "ipython",
    "version": 3
   },
   "file_extension": ".py",
   "mimetype": "text/x-python",
   "name": "python",
   "nbconvert_exporter": "python",
   "pygments_lexer": "ipython3",
   "version": "3.7.6"
  }
 },
 "nbformat": 4,
 "nbformat_minor": 4
}
